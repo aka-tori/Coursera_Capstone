{
  "nbformat": 4,
  "nbformat_minor": 0,
  "metadata": {
    "colab": {
      "name": "Project-SF-description.ipynb",
      "provenance": [],
      "collapsed_sections": []
    },
    "kernelspec": {
      "name": "python3",
      "display_name": "Python 3"
    }
  },
  "cells": [
    {
      "cell_type": "markdown",
      "metadata": {
        "id": "r4dd703ALxF9",
        "colab_type": "text"
      },
      "source": [
        "# IBM Capstone project"
      ]
    },
    {
      "cell_type": "markdown",
      "metadata": {
        "id": "NDX5FHHILz7n",
        "colab_type": "text"
      },
      "source": [
        "## Introduction"
      ]
    },
    {
      "cell_type": "markdown",
      "metadata": {
        "id": "K3efQzTaL0D6",
        "colab_type": "text"
      },
      "source": [
        "In this project we will explore city of San Francisco. First we will define most popular restaurant category and then we will try to find areas that are lacking the selected category, wich can be an opportunity to open a new venue.\n",
        "\n",
        "Target audience for this report are anyone who is interested in opening a new reustaurant, but not sure what kind of and in with neighborhood. \n"
      ]
    },
    {
      "cell_type": "markdown",
      "metadata": {
        "id": "j9uH437rL0e_",
        "colab_type": "text"
      },
      "source": [
        "## Data"
      ]
    },
    {
      "cell_type": "markdown",
      "metadata": {
        "id": "Yg49otLPL0lR",
        "colab_type": "text"
      },
      "source": [
        "We will use freely available data from Wiki to determine the list of neighbourhoods in San Francisco. \n",
        "\n",
        "Next we well use geocoder to determine geospatial coordinates of each neighbourhood.\n",
        "\n",
        "Given rather strict limit from Foursquare API, we will use only information avalible with regular access and grab list of venues for given neighbourhoods (including venue id, name, category, lattitude and longitude). Also we will grab from Foursquare the amount of likes for each venue. For our purposes we will consider amount of likes to indicate popularity of venues.\n"
      ]
    },
    {
      "cell_type": "markdown",
      "metadata": {
        "id": "B0gmDT4fdsOT",
        "colab_type": "text"
      },
      "source": [
        "After extracting all data we will have data frame to proceed on with information needed."
      ]
    },
    {
      "cell_type": "code",
      "metadata": {
        "id": "xhIscQRMeYTB",
        "colab_type": "code",
        "colab": {
          "base_uri": "https://localhost:8080/",
          "height": 204
        },
        "outputId": "a6a4652f-45ae-44de-fbf7-25a3e3333acf"
      },
      "source": [
        "url = 'https://raw.githubusercontent.com/aka-tori/Coursera_Capstone/master/sfv.csv'\n",
        "sfv = pd.read_csv(url)\n",
        "sfv.drop('Unnamed: 0', axis=1, inplace=True)\n",
        "sfv.head()"
      ],
      "execution_count": 3,
      "outputs": [
        {
          "output_type": "execute_result",
          "data": {
            "text/html": [
              "<div>\n",
              "<style scoped>\n",
              "    .dataframe tbody tr th:only-of-type {\n",
              "        vertical-align: middle;\n",
              "    }\n",
              "\n",
              "    .dataframe tbody tr th {\n",
              "        vertical-align: top;\n",
              "    }\n",
              "\n",
              "    .dataframe thead th {\n",
              "        text-align: right;\n",
              "    }\n",
              "</style>\n",
              "<table border=\"1\" class=\"dataframe\">\n",
              "  <thead>\n",
              "    <tr style=\"text-align: right;\">\n",
              "      <th></th>\n",
              "      <th>Neighborhood</th>\n",
              "      <th>Neighborhood Latitude</th>\n",
              "      <th>Neighborhood Longitude</th>\n",
              "      <th>Venue</th>\n",
              "      <th>Venue id</th>\n",
              "      <th>Venue Latitude</th>\n",
              "      <th>Venue Longitude</th>\n",
              "      <th>Venue Category</th>\n",
              "      <th>likes</th>\n",
              "    </tr>\n",
              "  </thead>\n",
              "  <tbody>\n",
              "    <tr>\n",
              "      <th>0</th>\n",
              "      <td>Nob Hill</td>\n",
              "      <td>37.79336</td>\n",
              "      <td>-122.41787</td>\n",
              "      <td>Acquerello</td>\n",
              "      <td>3fd66200f964a52013ed1ee3</td>\n",
              "      <td>37.791669</td>\n",
              "      <td>-122.421407</td>\n",
              "      <td>Italian Restaurant</td>\n",
              "      <td>82</td>\n",
              "    </tr>\n",
              "    <tr>\n",
              "      <th>1</th>\n",
              "      <td>Inner Sunset</td>\n",
              "      <td>37.76211</td>\n",
              "      <td>-122.46886</td>\n",
              "      <td>Ebisu</td>\n",
              "      <td>3fd66200f964a52017ed1ee3</td>\n",
              "      <td>37.764354</td>\n",
              "      <td>-122.466358</td>\n",
              "      <td>Sushi Restaurant</td>\n",
              "      <td>264</td>\n",
              "    </tr>\n",
              "    <tr>\n",
              "      <th>2</th>\n",
              "      <td>Jackson Square</td>\n",
              "      <td>37.79708</td>\n",
              "      <td>-122.39841</td>\n",
              "      <td>Slanted Door</td>\n",
              "      <td>3fd66200f964a52018ed1ee3</td>\n",
              "      <td>37.796222</td>\n",
              "      <td>-122.393895</td>\n",
              "      <td>Vietnamese Restaurant</td>\n",
              "      <td>1200</td>\n",
              "    </tr>\n",
              "    <tr>\n",
              "      <th>3</th>\n",
              "      <td>South Park</td>\n",
              "      <td>37.78145</td>\n",
              "      <td>-122.39386</td>\n",
              "      <td>Fringale</td>\n",
              "      <td>3fd66200f964a5201bed1ee3</td>\n",
              "      <td>37.778731</td>\n",
              "      <td>-122.397105</td>\n",
              "      <td>French Restaurant</td>\n",
              "      <td>60</td>\n",
              "    </tr>\n",
              "    <tr>\n",
              "      <th>4</th>\n",
              "      <td>Russian Hill</td>\n",
              "      <td>37.80203</td>\n",
              "      <td>-122.41963</td>\n",
              "      <td>Gary Danko</td>\n",
              "      <td>3fd66200f964a52025ee1ee3</td>\n",
              "      <td>37.805751</td>\n",
              "      <td>-122.420488</td>\n",
              "      <td>New American Restaurant</td>\n",
              "      <td>293</td>\n",
              "    </tr>\n",
              "  </tbody>\n",
              "</table>\n",
              "</div>"
            ],
            "text/plain": [
              "     Neighborhood  Neighborhood Latitude  Neighborhood Longitude  \\\n",
              "0        Nob Hill               37.79336              -122.41787   \n",
              "1    Inner Sunset               37.76211              -122.46886   \n",
              "2  Jackson Square               37.79708              -122.39841   \n",
              "3      South Park               37.78145              -122.39386   \n",
              "4    Russian Hill               37.80203              -122.41963   \n",
              "\n",
              "          Venue                  Venue id  Venue Latitude  Venue Longitude  \\\n",
              "0    Acquerello  3fd66200f964a52013ed1ee3       37.791669      -122.421407   \n",
              "1         Ebisu  3fd66200f964a52017ed1ee3       37.764354      -122.466358   \n",
              "2  Slanted Door  3fd66200f964a52018ed1ee3       37.796222      -122.393895   \n",
              "3      Fringale  3fd66200f964a5201bed1ee3       37.778731      -122.397105   \n",
              "4    Gary Danko  3fd66200f964a52025ee1ee3       37.805751      -122.420488   \n",
              "\n",
              "            Venue Category  likes  \n",
              "0       Italian Restaurant     82  \n",
              "1         Sushi Restaurant    264  \n",
              "2    Vietnamese Restaurant   1200  \n",
              "3        French Restaurant     60  \n",
              "4  New American Restaurant    293  "
            ]
          },
          "metadata": {
            "tags": []
          },
          "execution_count": 3
        }
      ]
    }
  ]
}